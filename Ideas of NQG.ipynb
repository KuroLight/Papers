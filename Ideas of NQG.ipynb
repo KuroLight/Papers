{
 "cells": [
  {
   "cell_type": "code",
   "execution_count": 4,
   "metadata": {},
   "outputs": [
    {
     "name": "stdout",
     "output_type": "stream",
     "text": [
      "data  docs  models  notebooks  README.md  src\r\n"
     ]
    }
   ],
   "source": [
    "!cd /app/smart-fim && ls"
   ]
  },
  {
   "cell_type": "markdown",
   "metadata": {},
   "source": [
    "# Paper: Neural Question Generation from Text: A Preliminary Study\n",
    "link: [Neural Question Generation from Text: A Preliminary Study](https://arxiv.org/pdf/1704.01792.pdf)\n",
    "\n",
    "code: [magic282/NQG](https://github.com/magic282/NQG)\n",
    "\n",
    "Here's its approach:\n",
    "\n",
    "**a sequence-to-sequence model, including a feature-rich encoder, plus an attention-based decoder.**\n",
    "\n",
    "![nqg_framework](https://git.web.boeing.com/yongfa.tan/smart-fim/raw/dev-yongfa/docs/img/nqg/nqg_framework.png)"
   ]
  },
  {
   "cell_type": "markdown",
   "metadata": {},
   "source": [
    "\n",
    "\n",
    "## Feature-Rich Encoder\n",
    "concatentate (We have 5 sentences here for example)\n",
    "* ### word vector (model trains embedding, but there're experiments including GloVe pretrain in paper)\n",
    "\n",
    "    * **Source Sentences:**\n",
    "        1. it was founded in 1986 through the donations of joan b. kroc , the widow of mcdonald 's owner ray kroc .\n",
    "        + it was founded in 1986 through the donations of joan b. kroc , the widow of mcdonald 's owner ray kroc .\n",
    "        + it was founded in 1986 through the donations of joan b. kroc , the widow of mcdonald 's owner ray kroc .\n",
    "        + the main building is the 14-story theodore m. hesburgh library , completed in 1963 , which is the third building to house the main collection of books .\n",
    "        + the main building is the 14-story theodore m. hesburgh library , completed in 1963 , which is the third building to house the main collection of books .\n",
    "\n",
    "* ### lexical feature embedding vectors (NER, POS tagging, etc... see below examples) ( I checked the code, they seem like all one-hot vectors)   \n",
    "\n",
    "    * **NER:** (might not be appropriate to AMM NER)\n",
    "        1. O O O O DATE O O O O PERSON PERSON PERSON O O O O ORGANIZATION O O PERSON PERSON O\n",
    "        + O O O O DATE O O O O PERSON PERSON PERSON O O O O ORGANIZATION O O PERSON PERSON O\n",
    "        + O O O O DATE O O O O PERSON PERSON PERSON O O O O ORGANIZATION O O PERSON PERSON O\n",
    "        + O O O O O O PERSON PERSON PERSON PERSON O O O DATE O O O O ORDINAL O O O O O O O O O\n",
    "        + O O O O O O PERSON PERSON PERSON PERSON O O O DATE O O O O ORDINAL O O O O O O O O O\n",
    "    \n",
    "    * **POS:**\n",
    "        1. PRP VBD VBN IN CD IN DT NNS IN NNP NNP NNP , DT NN IN NNP POS NN NNP NNP .\n",
    "        + PRP VBD VBN IN CD IN DT NNS IN NNP NNP NNP , DT NN IN NNP POS NN NNP NNP .\n",
    "        + PRP VBD VBN IN CD IN DT NNS IN NNP NNP NNP , DT NN IN NNP POS NN NNP NNP .\n",
    "        + DT JJ NN VBZ DT JJ NNP NNP NNP NNP , VBN IN CD , WDT VBZ DT JJ NN TO VB DT JJ NN IN NNS .\n",
    "        + DT JJ NN VBZ DT JJ NNP NNP NNP NNP , VBN IN CD , WDT VBZ DT JJ NN TO VB DT JJ NN IN NNS .\n",
    "        \n",
    "    * **CASE:**\n",
    "        1. UP LOW LOW LOW LOW LOW LOW LOW LOW UP UP UP LOW LOW LOW LOW UP LOW LOW UP UP LOW\n",
    "        + UP LOW LOW LOW LOW LOW LOW LOW LOW UP UP UP LOW LOW LOW LOW UP LOW LOW UP UP LOW\n",
    "        + UP LOW LOW LOW LOW LOW LOW LOW LOW UP UP UP LOW LOW LOW LOW UP LOW LOW UP UP LOW\n",
    "        + UP LOW LOW LOW LOW LOW UP UP UP UP LOW LOW LOW LOW LOW LOW LOW LOW LOW LOW LOW LOW LOW LOW LOW LOW LOW LOW\n",
    "        + UP LOW LOW LOW LOW LOW UP UP UP UP LOW LOW LOW LOW LOW LOW LOW LOW LOW LOW LOW LOW LOW LOW LOW LOW LOW LOW\n",
    "\n",
    "* ### answer position indicator embedding vectors (BIO tagging, see below examples) ( I checked the code, they seem like all one-hot vectors)   \n",
    "\n",
    "    * **BIO: **\n",
    "        1. O O O O B O O O O O O O O O O O O O O O O O\n",
    "        + O O O O O O O O O O O O O O O O O O O B I O\n",
    "        + O O O O O O O O O O O O O O O O B I O O O O\n",
    "        + O O O O O O B I I I O O O O O O O O O O O O O O O O O O\n",
    "        + O O O O O O O O O O O O O B O O O O O O O O O O O O O O \n",
    "\n",
    "and use **BiGRU** encoder\n",
    "\n",
    "## Attention-Based Decoder\n",
    "generate questions as output\n",
    "\n",
    "## Copy Mechanism\n",
    "deal with rare and unknown words in source sentences - a sigmoid-based function decides the probability p of copying a word from the source sentence"
   ]
  },
  {
   "cell_type": "markdown",
   "metadata": {},
   "source": [
    "# Leave the scores alone (BLEU-4 on paper), we check the human observation:\n",
    "\n",
    "**Source Sentences:**\n",
    "1. it was founded in 1986 through the donations of joan b. kroc , the widow of mcdonald 's owner ray kroc .\n",
    "+ it was founded in 1986 through the donations of joan b. kroc , the widow of mcdonald 's owner ray kroc .\n",
    "+ it was founded in 1986 through the donations of joan b. kroc , the widow of mcdonald 's owner ray kroc .\n",
    "+ the main building is the 14-story theodore m. hesburgh library , completed in 1963 , which is the third building to house the main collection of books .\n",
    "+ the main building is the 14-story theodore m. hesburgh library , completed in 1963 , which is the third building to house the main collection of books .\n",
    "\n",
    "\n",
    "## **Output: Target Questions:**\n",
    "1. in what year was the joan b. kroc institute for international peace studies founded ?\n",
    "+ to whom was john b. kroc married ?\n",
    "+ what company did ray kroc own ?\n",
    "+ what is the name of the main library at notre dame ?\n",
    "+ in what year was the theodore m. hesburgh library at notre dame finished ?"
   ]
  }
 ],
 "metadata": {
  "kernelspec": {
   "display_name": "Python 3",
   "language": "python",
   "name": "python3"
  },
  "language_info": {
   "codemirror_mode": {
    "name": "ipython",
    "version": 3
   },
   "file_extension": ".py",
   "mimetype": "text/x-python",
   "name": "python",
   "nbconvert_exporter": "python",
   "pygments_lexer": "ipython3",
   "version": "3.6.4"
  }
 },
 "nbformat": 4,
 "nbformat_minor": 2
}
